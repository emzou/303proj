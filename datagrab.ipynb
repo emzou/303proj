{
 "cells": [
  {
   "cell_type": "code",
   "execution_count": 1,
   "metadata": {},
   "outputs": [],
   "source": [
    "from psaw import PushshiftAPI                               \n",
    "import datetime as dt                                       \n",
    "import pandas as pd                                         \n",
    "import matplotlib.pyplot as plt                             \n",
    "from pprint import pprint                                   \n",
    "import requests \n",
    "\n",
    "pd.set_option(\"display.max_columns\", None)                  \n",
    "api = PushshiftAPI()                                        "
   ]
  },
  {
   "cell_type": "code",
   "execution_count": 2,
   "metadata": {},
   "outputs": [],
   "source": [
    "def data_prep_comments(subreddit, start_time, end_time, filters, limit):\n",
    "    if (len(filters) == 0):\n",
    "        filters = ['id', 'author', 'created_utc',\n",
    "                   'body', 'permalink', 'subreddit']        \n",
    "\n",
    "    comments = list(api.search_comments(\n",
    "        subreddit= subreddit,\n",
    "        #q=term,                                             \n",
    "        after=start_time,                                   \n",
    "        before=end_time,                                   \n",
    "        filter=filters,                                    \n",
    "        limit=limit,))                                      \n",
    "    return pd.DataFrame(comments)                           "
   ]
  },
  {
   "cell_type": "code",
   "execution_count": 7,
   "metadata": {},
   "outputs": [
    {
     "name": "stderr",
     "output_type": "stream",
     "text": [
      "/Users/emilyzou/opt/miniconda3/lib/python3.9/site-packages/psaw/PushshiftAPI.py:252: UserWarning: Not all PushShift shards are active. Query results may be incomplete\n",
      "  warnings.warn(shards_down_message)\n"
     ]
    }
   ],
   "source": [
    "def main():\n",
    "    subreddit = \"northwestern\"                                 \n",
    "    #term = 'p' \n",
    "    start_time = int(dt.datetime(2018, 1, 1).timestamp())  \n",
    "    end_time = int(dt.datetime(2018, 12, 31).timestamp())   \n",
    "    filters = []                                           \n",
    "    limit = 100000 \n",
    "    df_c = data_prep_comments(subreddit, start_time, end_time, filters, limit)\n",
    "    df_c['created_utc'] = pd.to_datetime(df_c['created_utc'], unit= 's')\n",
    "    df_c.to_csv('nu2018.csv')\n",
    "\n",
    "if __name__== \"__main__\" : main()"
   ]
  }
 ],
 "metadata": {
  "interpreter": {
   "hash": "dda3671ff3204f7c08d6fd700d73245b2febe83cbc27407a5dbd57f565cde480"
  },
  "kernelspec": {
   "display_name": "Python 3.9.12 ('base')",
   "language": "python",
   "name": "python3"
  },
  "language_info": {
   "codemirror_mode": {
    "name": "ipython",
    "version": 3
   },
   "file_extension": ".py",
   "mimetype": "text/x-python",
   "name": "python",
   "nbconvert_exporter": "python",
   "pygments_lexer": "ipython3",
   "version": "3.9.12"
  },
  "orig_nbformat": 4
 },
 "nbformat": 4,
 "nbformat_minor": 2
}
